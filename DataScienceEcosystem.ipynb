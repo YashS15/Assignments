{
 "cells": [
  {
   "cell_type": "markdown",
   "id": "372a58b8-044e-422a-93bb-dcd859872cc1",
   "metadata": {},
   "source": [
    "# Data Science Tools and Ecosystem\n"
   ]
  },
  {
   "cell_type": "markdown",
   "id": "eed03f58-e1d8-4ca6-9780-d16a110c7f84",
   "metadata": {},
   "source": [
    "In this notebook, Data Science Tools and Ecosystem are summarized."
   ]
  },
  {
   "cell_type": "markdown",
   "id": "6ea66881-8b65-4f0e-82ac-d5b4b0ffddf1",
   "metadata": {},
   "source": [
    "Some of the popular languages that Data Scientists use are:\n",
    "<ol>\n",
    "    <li>Python</li>\n",
    "    <li>R</li>\n",
    "    <li>Scala</li>\n",
    "</ol>  "
   ]
  },
  {
   "cell_type": "markdown",
   "id": "a47448b6-4d48-41f3-bbec-3297554948d9",
   "metadata": {},
   "source": [
    "Some of the commonly used libraries used by Data Scientists include:\n",
    "<ol>\n",
    "<li>Pandas</li>\n",
    "<li>Numpy</li>\n",
    "<li>Matplotlib</li>\n",
    "</ol>"
   ]
  },
  {
   "cell_type": "markdown",
   "id": "d5d46474-86d8-459b-b8e5-e972d1b5edcf",
   "metadata": {
    "tags": []
   },
   "source": [
    "|Data Science Tools|\n",
    "--------------------\n",
    "|     VS Code      |\n",
    "|     Git lab      |\n",
    "|     bootstrap    |"
   ]
  },
  {
   "cell_type": "markdown",
   "id": "e4efd04f-daa2-418a-8e3b-a1067a83d25c",
   "metadata": {},
   "source": [
    "### Below are a few examples of evaluating arithmetic expressions in Python"
   ]
  },
  {
   "cell_type": "code",
   "execution_count": 2,
   "id": "c0e3b435-2765-4dd2-92b1-f6222038b404",
   "metadata": {
    "tags": []
   },
   "outputs": [
    {
     "data": {
      "text/plain": [
       "17"
      ]
     },
     "execution_count": 2,
     "metadata": {},
     "output_type": "execute_result"
    }
   ],
   "source": [
    "#This a simple arithmetic expression to mutiply then add integers\n",
    "(3*4) + 5"
   ]
  },
  {
   "cell_type": "code",
   "execution_count": 3,
   "id": "e6b1d6a0-c0d6-4e92-bd08-cd753016afec",
   "metadata": {
    "tags": []
   },
   "outputs": [
    {
     "data": {
      "text/plain": [
       "3.3333333333333335"
      ]
     },
     "execution_count": 3,
     "metadata": {},
     "output_type": "execute_result"
    }
   ],
   "source": [
    "# This will convert 200 minutes to hours by diving by 60\n",
    "200/60 "
   ]
  },
  {
   "cell_type": "markdown",
   "id": "6f5ddee6-bd9f-40fa-9249-b484f9792ef5",
   "metadata": {},
   "source": [
    "**Objectives:** \n",
    "<ul>\n",
    "    <li> Data science tools and ecosystems</li>\n",
    "    <li> Popular programming languages in Data Science</li>\n",
    "    <li> Commonly used libraries in Data Science </li>\n",
    "</ul>    "
   ]
  },
  {
   "cell_type": "markdown",
   "id": "e04cf81d-acfa-4018-bb65-ff275c5cf033",
   "metadata": {},
   "source": [
    "## Author\n",
    "Yash Sawalkar "
   ]
  },
  {
   "cell_type": "code",
   "execution_count": null,
   "id": "c6c71119-3e03-41bd-a749-e06e7830e9d4",
   "metadata": {},
   "outputs": [],
   "source": []
  }
 ],
 "metadata": {
  "kernelspec": {
   "display_name": "Python",
   "language": "python",
   "name": "conda-env-python-py"
  },
  "language_info": {
   "codemirror_mode": {
    "name": "ipython",
    "version": 3
   },
   "file_extension": ".py",
   "mimetype": "text/x-python",
   "name": "python",
   "nbconvert_exporter": "python",
   "pygments_lexer": "ipython3",
   "version": "3.7.12"
  }
 },
 "nbformat": 4,
 "nbformat_minor": 5
}
